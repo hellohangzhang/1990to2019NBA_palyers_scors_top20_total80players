{
 "cells": [
  {
   "cell_type": "code",
   "execution_count": 1,
   "metadata": {},
   "outputs": [],
   "source": [
    "import requests\n",
    "from bs4 import BeautifulSoup\n",
    "import numpy as np\n",
    "import pandas as pd\n",
    "import time"
   ]
  },
  {
   "cell_type": "code",
   "execution_count": 2,
   "metadata": {},
   "outputs": [
    {
     "name": "stdout",
     "output_type": "stream",
     "text": [
      "1 卡里姆-贾巴尔/Kareem Abdul-Jabbar\n",
      "2 卡尔-马龙/Karl Malone\n",
      "3 科比-布莱恩特/Kobe Bryant\n",
      "4 勒布朗-詹姆斯/LeBron James\n",
      "5 迈克尔-乔丹/Michael Jordan\n",
      "6 德克-诺维茨基/Dirk Nowitzki\n",
      "7 威尔特-张伯伦/Wilt Chamberlain\n",
      "8 沙奎尔-奥尼尔/Shaquille O'Neal\n",
      "9 摩西-马龙/Moses Malone\n",
      "10 埃尔文-海耶斯/Elvin Hayes\n",
      "11 哈基姆-奥拉朱旺/Hakeem Olajuwon\n",
      "12 奥斯卡-罗波特森/Oscar Robertson\n",
      "13 多米尼克-威尔金斯/Dominique Wilkins\n",
      "14 蒂姆-邓肯/Tim Duncan\n",
      "15 保罗-皮尔斯/Paul Pierce\n",
      "16 约翰-哈福利切克/John Havlicek\n",
      "17 凯文-加内特/Kevin Garnett\n",
      "18 阿历克斯-英格利什/Alex English\n",
      "19 卡梅罗-安东尼/Carmelo Anthony\n",
      "20 文斯-卡特/Vince Carter\n",
      "21 雷吉-米勒/Reggie Miller\n",
      "22 杰里-韦斯特/Jerry West\n",
      "23 帕特里克-尤因/Patrick Ewing\n",
      "24 雷-阿伦/Ray Allen\n",
      "25 阿伦-艾弗森/Allen Iverson\n",
      "26 查尔斯-巴克利/Charles Barkley\n",
      "27 罗波特-帕里什/Robert Parish\n",
      "28 阿德里安-丹特利/Adrian Dantley\n",
      "29 德维恩-韦德/Dwyane Wade\n",
      "30 埃尔金-贝勒/Elgin Baylor\n",
      "31 凯文-杜兰特/Kevin Durant\n",
      "32 克莱德-德雷克斯勒/Clyde Drexler\n",
      "33 加里-佩顿/Gary Payton\n",
      "34 拉里-伯德/Larry Bird\n",
      "35 豪尔-格瑞尔/Hal Greer\n",
      "36 沃尔特-贝拉米/Walt Bellamy\n",
      "37 保罗-加索尔/Pau Gasol\n",
      "38 鲍勃-佩蒂特/Bob Pettit\n",
      "39 大卫-罗宾逊/David Robinson\n",
      "40 乔治-格文/George Gervin\n",
      "41 米奇-里奇蒙德/Mitch Richmond\n",
      "42 乔-约翰逊/Joe Johnson\n",
      "43 汤姆-钱伯斯/Tom Chambers\n",
      "44 安托万-贾米森/Antawn Jamison\n",
      "45 约翰-斯托克顿/John Stockton\n",
      "46 伯纳德-金/Bernard King\n",
      "47 克里弗德-罗宾逊/Clifford Robinson\n",
      "48 沃尔特-戴维斯/Walter Davis\n",
      "49 托尼-帕克/Tony Parker\n",
      "50 特里-卡明斯/Terry Cummings\n",
      "51 贾马尔-克劳福德/Jamal Crawford\n",
      "52 鲍伯-兰尼尔/Bob Lanier\n",
      "53 埃迪-约翰逊/Eddie Johnson\n",
      "54 盖尔-古德里奇/Gail Goodrich\n",
      "55 雷杰-瑟乌斯/Reggie Theus\n",
      "56 达勒-艾利斯/Dale Ellis\n",
      "57 斯科蒂-皮蓬/Scottie Pippen\n",
      "58 杰森-特里/Jason Terry\n",
      "59 拉塞尔-威斯布鲁克/Russell Westbrook\n",
      "60 切特-沃克/Chet Walker\n",
      "61 伊塞亚-托马斯/Isiah Thomas\n",
      "62 鲍伯-麦克阿杜/Bob McAdoo\n",
      "63 詹姆斯-哈登/James Harden\n",
      "64 拉玛库斯-阿尔德里奇/LaMarcus Aldridge\n",
      "65 扎克-兰多夫/Zach Randolph\n",
      "66 马克-阿吉雷/Mark Aguirre\n",
      "67 多尔夫-谢伊斯/Dolph Schayes\n",
      "68 里克-巴里/Rick Barry\n",
      "69 特雷西-麦克格雷迪/Tracy McGrady\n",
      "70 朱利叶斯-欧文/Julius Erving\n",
      "71 格伦-莱斯/Glen Rice\n",
      "72 戴夫-宾/Dave Bing\n",
      "73 德怀特-霍华德/Dwight Howard\n",
      "74 沃尔德-B-弗里/World B. Free\n",
      "75 凯尔文-墨菲/Calvin Murphy\n",
      "76 卢-哈德森/Lou Hudson\n",
      "77 克里斯-穆林/Chris Mullin\n",
      "78 兰尼-威尔肯斯/Lenny Wilkens\n",
      "79 拜利-霍维尔/Bailey Howell\n",
      "80 埃尔文-约翰逊/Magic Johnson\n",
      "done\n"
     ]
    }
   ],
   "source": [
    "url_part1 = 'http://www.stat-nba.com/query.php?page='\n",
    "url_part3 = '&QueryType=all&AllType=season&AT=tot&crtcol=pts&order=1#label_show_result'\n",
    "headers = {'User-Agent':'Mozilla/5.0 (Windows NT 10.0; Win64; x64) AppleWebKit/537.36 (KHTML, like Gecko) Chrome/76.0.3809.100 Safari/537.36'}\n",
    "main_url = 'http://www.stat-nba.com'\n",
    "score_info = []\n",
    "k = 0\n",
    "\n",
    "#初衷是计算1990-2019年这三十年，每年的TOP20得分榜，最保守估计需要20*30=600名球员信息，并且其排名是2019年的累计得分排名最靠前600的球员。\n",
    "#实际上是完全不需要这么多球员信息，因为不少球员一旦在某一个年份进入历史的得分TOP20排行榜，之后的若干年也会存在于排行榜之中。\n",
    "#实际上，跑取出600位球员数据后发现，在1990年累计得分第20位的球员是多尔夫-谢伊斯，他在2019年8月的累计得分榜上排名67位。由于每一页记录前20位球员信息，实际爬取4页就可以了。因\n",
    "for i in range(4):\n",
    "    \n",
    "    #进入stat-nba网站中历史得分排行页面，通过循环进行翻页\n",
    "    url = url_part1 + str(i) + url_part3  \n",
    "    \n",
    "    res = requests.get(url,headers=headers)\n",
    "\n",
    "    res.encoding='utf-8'\n",
    "    bs = BeautifulSoup(res.text,'html.parser')\n",
    "    #获取当前页面所有球员的详情页tag对象\n",
    "    player_urls = bs.find_all('a',class_='query_player_name')\n",
    "    \n",
    "\n",
    "\n",
    "    for play_url in player_urls:\n",
    "        player_url_part = play_url['href'][1:]\n",
    "        #获取每个球员的主页url\n",
    "        player_url = main_url + player_url_part  \n",
    "        \n",
    "        res1 = requests.get(player_url,headers=headers)\n",
    "        res1.encoding='utf-8'\n",
    "        bs = BeautifulSoup(res1.text,'html.parser')\n",
    "        \n",
    "        #获取累计数据的父级tag对象\n",
    "        sta_box_tot = bs.find('table',id = 'stat_box_tot')\n",
    "        \n",
    "        #获取数据标题信息，存放在列表中，用于后续定位得分列的索引。\n",
    "        #因为少数球员由于年代久远，没有记录胜负信息，导致得分位于最后一列，而不是通常的倒数第三列。\n",
    "        index_list = sta_box_tot.select('thead tr')[0].text.strip().split('\\n')\n",
    "        \n",
    "        ser = pd.Series(index_list)\n",
    "        \n",
    "        #获取得分列在标题信息中的索引\n",
    "        score_index = int(ser[ser.values == '得分'].index.values)\n",
    "        \n",
    "        \n",
    "        #存储了该球员每个赛季的累计数据信息\n",
    "        tag_1 = sta_box_tot.find_all('tr',class_='sort')\n",
    "        \n",
    "        #获取球员名称\n",
    "        player_name = bs.find('div',class_='name').text.split('\\n')[0] \n",
    "        \n",
    "        #倒序获取数据，因为后续可视化部分需要年份从小往大。\n",
    "        for tag in tag_1[::-1]:\n",
    "            \n",
    "            #获取原始格式的赛季‘88-89’\n",
    "            season = tag.find_all('td')[1].text  \n",
    "            \n",
    "            #获取球队的信息。\n",
    "            team = tag.find_all('td')[2].text \n",
    "            \n",
    "            #将原始格式转换为4位的年份，方便后续统计。对于60年代的数据，会错误地转化为2060+，将在后续进行处理\n",
    "            season = pd.to_datetime(str(season[-2:]),format='%y').year \n",
    "            \n",
    "            #通过前面获取的的分裂的索引信息，来获取当前赛季的得分。因为第一个是空值，+1后才能正常获取到得分的信息。\n",
    "            season_scores = tag.find_all('td')[score_index+1].text \n",
    "            \n",
    "            \n",
    "            #将每个球员每个赛季的得分情况放进列表中，作为后续DataFrame的值。\n",
    "            score_info.append([player_name,season,team,season_scores]) \n",
    "            \n",
    "        #如果球员在2019以前退役，那么补充退役年份到2019年的数据，方便后续统计指定年份的累计得分。\n",
    "        while season < 2019:  \n",
    "            season_scores = 0\n",
    "            season += 1\n",
    "            team = '无'\n",
    "            score_info.append([player_name,season,team,season_scores])\n",
    "            \n",
    "        #方便观察当前的爬取进度\n",
    "        k += 1\n",
    "        \n",
    "        print(k,player_name)\n",
    "        #减少stat-nba服务器压力\n",
    "        time.sleep(0.5)\n",
    "        \n",
    "\n",
    "        \n",
    "frame = pd.DataFrame(np.array(score_info),columns=['球员','赛季','球队','得分'])\n",
    "#将获取到的数据保存为excel\n",
    "frame.to_excel(r'D:\\数据分析\\NBA球员每赛季得分.xlsx')\n",
    "\n",
    "#提示爬取任务已完成\n",
    "print('done')"
   ]
  },
  {
   "cell_type": "code",
   "execution_count": 3,
   "metadata": {},
   "outputs": [
    {
     "data": {
      "text/plain": [
       "(2892, 4)"
      ]
     },
     "execution_count": 3,
     "metadata": {},
     "output_type": "execute_result"
    }
   ],
   "source": [
    "frame = pd.read_excel(r'D:\\数据分析\\NBA球员每赛季得分.xlsx')\n",
    "frame.shape"
   ]
  },
  {
   "cell_type": "code",
   "execution_count": 4,
   "metadata": {},
   "outputs": [
    {
     "data": {
      "text/plain": [
       "(2875, 4)"
      ]
     },
     "execution_count": 4,
     "metadata": {},
     "output_type": "execute_result"
    }
   ],
   "source": [
    "#去掉ABA联盟球队的数据，因为这部分是不算做历史得分\n",
    "frame.drop(frame[frame['球队'].str.contains('ABA')].index,inplace=True)\n",
    "frame.shape"
   ]
  },
  {
   "cell_type": "code",
   "execution_count": 5,
   "metadata": {},
   "outputs": [
    {
     "data": {
      "text/plain": [
       "(2875, 4)"
      ]
     },
     "execution_count": 5,
     "metadata": {},
     "output_type": "execute_result"
    }
   ],
   "source": [
    "#去掉空值。由于有些球员数据距今太久远，没有记录其在某支球队的信息，只记录了其在该年份的总得分，因此可以直接去掉空值所在的行；\n",
    "frame.dropna(inplace=True)\n",
    "frame.shape"
   ]
  },
  {
   "cell_type": "code",
   "execution_count": 6,
   "metadata": {},
   "outputs": [
    {
     "data": {
      "text/plain": [
       "120"
      ]
     },
     "execution_count": 6,
     "metadata": {},
     "output_type": "execute_result"
    }
   ],
   "source": [
    "(frame['赛季'] > 2019).sum()"
   ]
  },
  {
   "cell_type": "code",
   "execution_count": 7,
   "metadata": {},
   "outputs": [],
   "source": [
    "#将类似2065的数据转换成1965\n",
    "def f(x):\n",
    "    return (x-100) if x>2019 else x\n",
    "frame['赛季'] = frame['赛季'].map(f)"
   ]
  },
  {
   "cell_type": "code",
   "execution_count": 8,
   "metadata": {},
   "outputs": [
    {
     "data": {
      "text/plain": [
       "0"
      ]
     },
     "execution_count": 8,
     "metadata": {},
     "output_type": "execute_result"
    }
   ],
   "source": [
    "(frame['赛季'] > 2019).sum()"
   ]
  },
  {
   "cell_type": "code",
   "execution_count": 9,
   "metadata": {},
   "outputs": [
    {
     "data": {
      "text/html": [
       "<div>\n",
       "<style scoped>\n",
       "    .dataframe tbody tr th:only-of-type {\n",
       "        vertical-align: middle;\n",
       "    }\n",
       "\n",
       "    .dataframe tbody tr th {\n",
       "        vertical-align: top;\n",
       "    }\n",
       "\n",
       "    .dataframe thead th {\n",
       "        text-align: right;\n",
       "    }\n",
       "</style>\n",
       "<table border=\"1\" class=\"dataframe\">\n",
       "  <thead>\n",
       "    <tr style=\"text-align: right;\">\n",
       "      <th></th>\n",
       "    </tr>\n",
       "  </thead>\n",
       "  <tbody>\n",
       "  </tbody>\n",
       "</table>\n",
       "</div>"
      ],
      "text/plain": [
       "Empty DataFrame\n",
       "Columns: []\n",
       "Index: []"
      ]
     },
     "execution_count": 9,
     "metadata": {},
     "output_type": "execute_result"
    }
   ],
   "source": [
    "#得到待填充的数据，因为有的球员在部分赛季没有打球，需要补充这部分数据，用于计算特定年份的累计得分信息。\n",
    "#比如迈克尔乔丹，中途两次退役，如果不补充数据，那么这些年份的历史的分排行就不会有他，导致错误。\n",
    "data_add = []\n",
    "\n",
    "def f(frame):\n",
    "    for i in range(frame.iloc[:,1].min() + 1,2019):\n",
    "        if i not in frame.iloc[:,1].values:\n",
    "            data_add.append([frame.iloc[0,0],i,'无',0])\n",
    "\n",
    "frame.groupby('球员').apply(f)"
   ]
  },
  {
   "cell_type": "code",
   "execution_count": 10,
   "metadata": {},
   "outputs": [
    {
     "data": {
      "text/plain": [
       "(3001, 4)"
      ]
     },
     "execution_count": 10,
     "metadata": {},
     "output_type": "execute_result"
    }
   ],
   "source": [
    "frame_add = pd.DataFrame(np.array(data_add),columns=['球员','赛季','球队','得分'])\n",
    "#将两部分数据进行拼接\n",
    "frame = pd.concat([frame,frame_add],sort=False)\n",
    "frame.shape"
   ]
  },
  {
   "cell_type": "code",
   "execution_count": 11,
   "metadata": {},
   "outputs": [
    {
     "data": {
      "text/plain": [
       "True"
      ]
     },
     "execution_count": 11,
     "metadata": {},
     "output_type": "execute_result"
    }
   ],
   "source": [
    "frame.index.duplicated().any()"
   ]
  },
  {
   "cell_type": "code",
   "execution_count": 12,
   "metadata": {},
   "outputs": [],
   "source": [
    "frame.index = np.arange(3001)"
   ]
  },
  {
   "cell_type": "code",
   "execution_count": 13,
   "metadata": {},
   "outputs": [
    {
     "data": {
      "text/plain": [
       "False"
      ]
     },
     "execution_count": 13,
     "metadata": {},
     "output_type": "execute_result"
    }
   ],
   "source": [
    "frame.index.duplicated().any()"
   ]
  },
  {
   "cell_type": "code",
   "execution_count": 14,
   "metadata": {},
   "outputs": [
    {
     "data": {
      "text/plain": [
       "88"
      ]
     },
     "execution_count": 14,
     "metadata": {},
     "output_type": "execute_result"
    }
   ],
   "source": [
    "frame.duplicated(['球员','赛季']).sum()"
   ]
  },
  {
   "cell_type": "code",
   "execution_count": 15,
   "metadata": {},
   "outputs": [],
   "source": [
    "#有的球员一个赛季在多个球队打球，并且该赛季有一个’合计‘值统计了该赛季的总分，因此需要删除之前的重复值，保留最后一个’合计‘值\n",
    "frame.drop_duplicates(['球员','赛季'],keep='last',inplace=True)"
   ]
  },
  {
   "cell_type": "code",
   "execution_count": 16,
   "metadata": {},
   "outputs": [
    {
     "data": {
      "text/plain": [
       "0"
      ]
     },
     "execution_count": 16,
     "metadata": {},
     "output_type": "execute_result"
    }
   ],
   "source": [
    "frame.duplicated(['球员','赛季']).sum()"
   ]
  },
  {
   "cell_type": "code",
   "execution_count": 17,
   "metadata": {},
   "outputs": [
    {
     "data": {
      "text/plain": [
       "(2913, 4)"
      ]
     },
     "execution_count": 17,
     "metadata": {},
     "output_type": "execute_result"
    }
   ],
   "source": [
    "frame.shape"
   ]
  },
  {
   "cell_type": "code",
   "execution_count": 18,
   "metadata": {},
   "outputs": [
    {
     "data": {
      "text/plain": [
       "球员    object\n",
       "赛季    object\n",
       "球队    object\n",
       "得分    object\n",
       "dtype: object"
      ]
     },
     "execution_count": 18,
     "metadata": {},
     "output_type": "execute_result"
    }
   ],
   "source": [
    "frame.dtypes"
   ]
  },
  {
   "cell_type": "code",
   "execution_count": 19,
   "metadata": {},
   "outputs": [],
   "source": [
    "frame['赛季'] = frame['赛季'].astype(int)\n",
    "frame['得分'] = frame['得分'].astype(int)"
   ]
  },
  {
   "cell_type": "code",
   "execution_count": 20,
   "metadata": {},
   "outputs": [],
   "source": [
    "frame1 = frame.copy()"
   ]
  },
  {
   "cell_type": "code",
   "execution_count": 21,
   "metadata": {
    "scrolled": true
   },
   "outputs": [
    {
     "data": {
      "text/html": [
       "<div>\n",
       "<style scoped>\n",
       "    .dataframe tbody tr th:only-of-type {\n",
       "        vertical-align: middle;\n",
       "    }\n",
       "\n",
       "    .dataframe tbody tr th {\n",
       "        vertical-align: top;\n",
       "    }\n",
       "\n",
       "    .dataframe thead th {\n",
       "        text-align: right;\n",
       "    }\n",
       "</style>\n",
       "<table border=\"1\" class=\"dataframe\">\n",
       "  <thead>\n",
       "    <tr style=\"text-align: right;\">\n",
       "      <th></th>\n",
       "      <th>球员</th>\n",
       "      <th>赛季</th>\n",
       "      <th>球队</th>\n",
       "      <th>得分</th>\n",
       "    </tr>\n",
       "  </thead>\n",
       "  <tbody>\n",
       "    <tr>\n",
       "      <th>1475</th>\n",
       "      <td>乔-约翰逊/Joe Johnson</td>\n",
       "      <td>2002</td>\n",
       "      <td>总计</td>\n",
       "      <td>581</td>\n",
       "    </tr>\n",
       "    <tr>\n",
       "      <th>1476</th>\n",
       "      <td>乔-约翰逊/Joe Johnson</td>\n",
       "      <td>2003</td>\n",
       "      <td>菲尼克斯太阳</td>\n",
       "      <td>803</td>\n",
       "    </tr>\n",
       "    <tr>\n",
       "      <th>1477</th>\n",
       "      <td>乔-约翰逊/Joe Johnson</td>\n",
       "      <td>2004</td>\n",
       "      <td>菲尼克斯太阳</td>\n",
       "      <td>1367</td>\n",
       "    </tr>\n",
       "    <tr>\n",
       "      <th>1478</th>\n",
       "      <td>乔-约翰逊/Joe Johnson</td>\n",
       "      <td>2005</td>\n",
       "      <td>菲尼克斯太阳</td>\n",
       "      <td>1400</td>\n",
       "    </tr>\n",
       "    <tr>\n",
       "      <th>1479</th>\n",
       "      <td>乔-约翰逊/Joe Johnson</td>\n",
       "      <td>2006</td>\n",
       "      <td>亚特兰大老鹰</td>\n",
       "      <td>1653</td>\n",
       "    </tr>\n",
       "  </tbody>\n",
       "</table>\n",
       "</div>"
      ],
      "text/plain": [
       "                     球员    赛季      球队    得分\n",
       "1475  乔-约翰逊/Joe Johnson  2002      总计   581\n",
       "1476  乔-约翰逊/Joe Johnson  2003  菲尼克斯太阳   803\n",
       "1477  乔-约翰逊/Joe Johnson  2004  菲尼克斯太阳  1367\n",
       "1478  乔-约翰逊/Joe Johnson  2005  菲尼克斯太阳  1400\n",
       "1479  乔-约翰逊/Joe Johnson  2006  亚特兰大老鹰  1653"
      ]
     },
     "execution_count": 21,
     "metadata": {},
     "output_type": "execute_result"
    }
   ],
   "source": [
    "frame1 = frame1.sort_values(['球员','赛季'],ascending=[True,True])\n",
    "frame1.head()"
   ]
  },
  {
   "cell_type": "code",
   "execution_count": 22,
   "metadata": {},
   "outputs": [],
   "source": [
    "frame1['总得分'] = frame1.groupby('球员')['得分'].cumsum()"
   ]
  },
  {
   "cell_type": "code",
   "execution_count": 23,
   "metadata": {},
   "outputs": [
    {
     "data": {
      "text/html": [
       "<div>\n",
       "<style scoped>\n",
       "    .dataframe tbody tr th:only-of-type {\n",
       "        vertical-align: middle;\n",
       "    }\n",
       "\n",
       "    .dataframe tbody tr th {\n",
       "        vertical-align: top;\n",
       "    }\n",
       "\n",
       "    .dataframe thead th {\n",
       "        text-align: right;\n",
       "    }\n",
       "</style>\n",
       "<table border=\"1\" class=\"dataframe\">\n",
       "  <thead>\n",
       "    <tr style=\"text-align: right;\">\n",
       "      <th></th>\n",
       "      <th>球员</th>\n",
       "      <th>赛季</th>\n",
       "      <th>球队</th>\n",
       "      <th>得分</th>\n",
       "      <th>总得分</th>\n",
       "    </tr>\n",
       "  </thead>\n",
       "  <tbody>\n",
       "    <tr>\n",
       "      <th>1475</th>\n",
       "      <td>乔-约翰逊/Joe Johnson</td>\n",
       "      <td>2002</td>\n",
       "      <td>总计</td>\n",
       "      <td>581</td>\n",
       "      <td>581</td>\n",
       "    </tr>\n",
       "    <tr>\n",
       "      <th>1476</th>\n",
       "      <td>乔-约翰逊/Joe Johnson</td>\n",
       "      <td>2003</td>\n",
       "      <td>菲尼克斯太阳</td>\n",
       "      <td>803</td>\n",
       "      <td>1384</td>\n",
       "    </tr>\n",
       "    <tr>\n",
       "      <th>1477</th>\n",
       "      <td>乔-约翰逊/Joe Johnson</td>\n",
       "      <td>2004</td>\n",
       "      <td>菲尼克斯太阳</td>\n",
       "      <td>1367</td>\n",
       "      <td>2751</td>\n",
       "    </tr>\n",
       "    <tr>\n",
       "      <th>1478</th>\n",
       "      <td>乔-约翰逊/Joe Johnson</td>\n",
       "      <td>2005</td>\n",
       "      <td>菲尼克斯太阳</td>\n",
       "      <td>1400</td>\n",
       "      <td>4151</td>\n",
       "    </tr>\n",
       "    <tr>\n",
       "      <th>1479</th>\n",
       "      <td>乔-约翰逊/Joe Johnson</td>\n",
       "      <td>2006</td>\n",
       "      <td>亚特兰大老鹰</td>\n",
       "      <td>1653</td>\n",
       "      <td>5804</td>\n",
       "    </tr>\n",
       "  </tbody>\n",
       "</table>\n",
       "</div>"
      ],
      "text/plain": [
       "                     球员    赛季      球队    得分   总得分\n",
       "1475  乔-约翰逊/Joe Johnson  2002      总计   581   581\n",
       "1476  乔-约翰逊/Joe Johnson  2003  菲尼克斯太阳   803  1384\n",
       "1477  乔-约翰逊/Joe Johnson  2004  菲尼克斯太阳  1367  2751\n",
       "1478  乔-约翰逊/Joe Johnson  2005  菲尼克斯太阳  1400  4151\n",
       "1479  乔-约翰逊/Joe Johnson  2006  亚特兰大老鹰  1653  5804"
      ]
     },
     "execution_count": 23,
     "metadata": {},
     "output_type": "execute_result"
    }
   ],
   "source": [
    "frame1.head()"
   ]
  },
  {
   "cell_type": "code",
   "execution_count": 24,
   "metadata": {},
   "outputs": [
    {
     "data": {
      "text/html": [
       "<div>\n",
       "<style scoped>\n",
       "    .dataframe tbody tr th:only-of-type {\n",
       "        vertical-align: middle;\n",
       "    }\n",
       "\n",
       "    .dataframe tbody tr th {\n",
       "        vertical-align: top;\n",
       "    }\n",
       "\n",
       "    .dataframe thead th {\n",
       "        text-align: right;\n",
       "    }\n",
       "</style>\n",
       "<table border=\"1\" class=\"dataframe\">\n",
       "  <thead>\n",
       "    <tr style=\"text-align: right;\">\n",
       "      <th></th>\n",
       "      <th>球员</th>\n",
       "      <th>赛季</th>\n",
       "      <th>球队</th>\n",
       "      <th>得分</th>\n",
       "      <th>总得分</th>\n",
       "    </tr>\n",
       "  </thead>\n",
       "  <tbody>\n",
       "    <tr>\n",
       "      <th>2309</th>\n",
       "      <td>多尔夫-谢伊斯/Dolph Schayes</td>\n",
       "      <td>1950</td>\n",
       "      <td>西拉丘斯国民</td>\n",
       "      <td>1072</td>\n",
       "      <td>1072</td>\n",
       "    </tr>\n",
       "    <tr>\n",
       "      <th>2310</th>\n",
       "      <td>多尔夫-谢伊斯/Dolph Schayes</td>\n",
       "      <td>1951</td>\n",
       "      <td>西拉丘斯国民</td>\n",
       "      <td>1121</td>\n",
       "      <td>2193</td>\n",
       "    </tr>\n",
       "    <tr>\n",
       "      <th>2311</th>\n",
       "      <td>多尔夫-谢伊斯/Dolph Schayes</td>\n",
       "      <td>1952</td>\n",
       "      <td>西拉丘斯国民</td>\n",
       "      <td>868</td>\n",
       "      <td>3061</td>\n",
       "    </tr>\n",
       "    <tr>\n",
       "      <th>2312</th>\n",
       "      <td>多尔夫-谢伊斯/Dolph Schayes</td>\n",
       "      <td>1953</td>\n",
       "      <td>西拉丘斯国民</td>\n",
       "      <td>1262</td>\n",
       "      <td>4323</td>\n",
       "    </tr>\n",
       "    <tr>\n",
       "      <th>2313</th>\n",
       "      <td>多尔夫-谢伊斯/Dolph Schayes</td>\n",
       "      <td>1954</td>\n",
       "      <td>西拉丘斯国民</td>\n",
       "      <td>1228</td>\n",
       "      <td>5551</td>\n",
       "    </tr>\n",
       "  </tbody>\n",
       "</table>\n",
       "</div>"
      ],
      "text/plain": [
       "                         球员    赛季      球队    得分   总得分\n",
       "2309  多尔夫-谢伊斯/Dolph Schayes  1950  西拉丘斯国民  1072  1072\n",
       "2310  多尔夫-谢伊斯/Dolph Schayes  1951  西拉丘斯国民  1121  2193\n",
       "2311  多尔夫-谢伊斯/Dolph Schayes  1952  西拉丘斯国民   868  3061\n",
       "2312  多尔夫-谢伊斯/Dolph Schayes  1953  西拉丘斯国民  1262  4323\n",
       "2313  多尔夫-谢伊斯/Dolph Schayes  1954  西拉丘斯国民  1228  5551"
      ]
     },
     "execution_count": 24,
     "metadata": {},
     "output_type": "execute_result"
    }
   ],
   "source": [
    "frame1.sort_values(['赛季','总得分'],ascending=[True,False],inplace=True)\n",
    "frame1.head()"
   ]
  },
  {
   "cell_type": "code",
   "execution_count": 25,
   "metadata": {},
   "outputs": [
    {
     "data": {
      "text/plain": [
       "798"
      ]
     },
     "execution_count": 25,
     "metadata": {},
     "output_type": "execute_result"
    }
   ],
   "source": [
    "(frame1['赛季'] < 1990).sum()"
   ]
  },
  {
   "cell_type": "code",
   "execution_count": 26,
   "metadata": {},
   "outputs": [
    {
     "data": {
      "text/plain": [
       "2115"
      ]
     },
     "execution_count": 26,
     "metadata": {},
     "output_type": "execute_result"
    }
   ],
   "source": [
    "(frame1['赛季'] >= 1990).sum()"
   ]
  },
  {
   "cell_type": "code",
   "execution_count": 27,
   "metadata": {},
   "outputs": [],
   "source": [
    "frame1.drop(frame1[frame1['赛季'] < 1990].index,inplace=True)"
   ]
  },
  {
   "cell_type": "code",
   "execution_count": 28,
   "metadata": {},
   "outputs": [
    {
     "data": {
      "text/plain": [
       "(2115, 5)"
      ]
     },
     "execution_count": 28,
     "metadata": {},
     "output_type": "execute_result"
    }
   ],
   "source": [
    "frame1.shape"
   ]
  },
  {
   "cell_type": "code",
   "execution_count": 29,
   "metadata": {},
   "outputs": [
    {
     "data": {
      "text/html": [
       "<div>\n",
       "<style scoped>\n",
       "    .dataframe tbody tr th:only-of-type {\n",
       "        vertical-align: middle;\n",
       "    }\n",
       "\n",
       "    .dataframe tbody tr th {\n",
       "        vertical-align: top;\n",
       "    }\n",
       "\n",
       "    .dataframe thead th {\n",
       "        text-align: right;\n",
       "    }\n",
       "</style>\n",
       "<table border=\"1\" class=\"dataframe\">\n",
       "  <thead>\n",
       "    <tr style=\"text-align: right;\">\n",
       "      <th></th>\n",
       "      <th>球员</th>\n",
       "      <th>赛季</th>\n",
       "      <th>球队</th>\n",
       "      <th>得分</th>\n",
       "      <th>总得分</th>\n",
       "    </tr>\n",
       "  </thead>\n",
       "  <tbody>\n",
       "    <tr>\n",
       "      <th>20</th>\n",
       "      <td>卡里姆-贾巴尔/Kareem Abdul-Jabbar</td>\n",
       "      <td>1990</td>\n",
       "      <td>无</td>\n",
       "      <td>0</td>\n",
       "      <td>38387</td>\n",
       "    </tr>\n",
       "    <tr>\n",
       "      <th>207</th>\n",
       "      <td>威尔特-张伯伦/Wilt Chamberlain</td>\n",
       "      <td>1990</td>\n",
       "      <td>无</td>\n",
       "      <td>0</td>\n",
       "      <td>31419</td>\n",
       "    </tr>\n",
       "    <tr>\n",
       "      <th>332</th>\n",
       "      <td>埃尔文-海耶斯/Elvin Hayes</td>\n",
       "      <td>1990</td>\n",
       "      <td>无</td>\n",
       "      <td>0</td>\n",
       "      <td>27313</td>\n",
       "    </tr>\n",
       "    <tr>\n",
       "      <th>426</th>\n",
       "      <td>奥斯卡-罗波特森/Oscar Robertson</td>\n",
       "      <td>1990</td>\n",
       "      <td>无</td>\n",
       "      <td>0</td>\n",
       "      <td>26710</td>\n",
       "    </tr>\n",
       "    <tr>\n",
       "      <th>563</th>\n",
       "      <td>约翰-哈福利切克/John Havlicek</td>\n",
       "      <td>1990</td>\n",
       "      <td>无</td>\n",
       "      <td>0</td>\n",
       "      <td>26395</td>\n",
       "    </tr>\n",
       "  </tbody>\n",
       "</table>\n",
       "</div>"
      ],
      "text/plain": [
       "                              球员    赛季 球队  得分    总得分\n",
       "20   卡里姆-贾巴尔/Kareem Abdul-Jabbar  1990  无   0  38387\n",
       "207     威尔特-张伯伦/Wilt Chamberlain  1990  无   0  31419\n",
       "332          埃尔文-海耶斯/Elvin Hayes  1990  无   0  27313\n",
       "426     奥斯卡-罗波特森/Oscar Robertson  1990  无   0  26710\n",
       "563       约翰-哈福利切克/John Havlicek  1990  无   0  26395"
      ]
     },
     "execution_count": 29,
     "metadata": {},
     "output_type": "execute_result"
    }
   ],
   "source": [
    "frame1.head()"
   ]
  },
  {
   "cell_type": "code",
   "execution_count": 30,
   "metadata": {},
   "outputs": [],
   "source": [
    "#取每一年历史的分前20的信息\n",
    "def f(arr):\n",
    "    return arr[:20]\n",
    "frame1 = frame1.groupby('赛季').apply(f)"
   ]
  },
  {
   "cell_type": "code",
   "execution_count": 31,
   "metadata": {},
   "outputs": [
    {
     "data": {
      "text/plain": [
       "(600, 5)"
      ]
     },
     "execution_count": 31,
     "metadata": {},
     "output_type": "execute_result"
    }
   ],
   "source": [
    "frame1.shape"
   ]
  },
  {
   "cell_type": "code",
   "execution_count": 32,
   "metadata": {
    "scrolled": true
   },
   "outputs": [
    {
     "data": {
      "text/html": [
       "<div>\n",
       "<style scoped>\n",
       "    .dataframe tbody tr th:only-of-type {\n",
       "        vertical-align: middle;\n",
       "    }\n",
       "\n",
       "    .dataframe tbody tr th {\n",
       "        vertical-align: top;\n",
       "    }\n",
       "\n",
       "    .dataframe thead th {\n",
       "        text-align: right;\n",
       "    }\n",
       "</style>\n",
       "<table border=\"1\" class=\"dataframe\">\n",
       "  <thead>\n",
       "    <tr style=\"text-align: right;\">\n",
       "      <th></th>\n",
       "      <th>球员</th>\n",
       "      <th>赛季</th>\n",
       "      <th>球队</th>\n",
       "      <th>得分</th>\n",
       "      <th>总得分</th>\n",
       "    </tr>\n",
       "  </thead>\n",
       "  <tbody>\n",
       "    <tr>\n",
       "      <th>20</th>\n",
       "      <td>卡里姆-贾巴尔/Kareem Abdul-Jabbar</td>\n",
       "      <td>1990</td>\n",
       "      <td>无</td>\n",
       "      <td>0</td>\n",
       "      <td>38387</td>\n",
       "    </tr>\n",
       "    <tr>\n",
       "      <th>207</th>\n",
       "      <td>威尔特-张伯伦/Wilt Chamberlain</td>\n",
       "      <td>1990</td>\n",
       "      <td>无</td>\n",
       "      <td>0</td>\n",
       "      <td>31419</td>\n",
       "    </tr>\n",
       "    <tr>\n",
       "      <th>332</th>\n",
       "      <td>埃尔文-海耶斯/Elvin Hayes</td>\n",
       "      <td>1990</td>\n",
       "      <td>无</td>\n",
       "      <td>0</td>\n",
       "      <td>27313</td>\n",
       "    </tr>\n",
       "    <tr>\n",
       "      <th>426</th>\n",
       "      <td>奥斯卡-罗波特森/Oscar Robertson</td>\n",
       "      <td>1990</td>\n",
       "      <td>无</td>\n",
       "      <td>0</td>\n",
       "      <td>26710</td>\n",
       "    </tr>\n",
       "    <tr>\n",
       "      <th>563</th>\n",
       "      <td>约翰-哈福利切克/John Havlicek</td>\n",
       "      <td>1990</td>\n",
       "      <td>无</td>\n",
       "      <td>0</td>\n",
       "      <td>26395</td>\n",
       "    </tr>\n",
       "  </tbody>\n",
       "</table>\n",
       "</div>"
      ],
      "text/plain": [
       "                              球员    赛季 球队  得分    总得分\n",
       "20   卡里姆-贾巴尔/Kareem Abdul-Jabbar  1990  无   0  38387\n",
       "207     威尔特-张伯伦/Wilt Chamberlain  1990  无   0  31419\n",
       "332          埃尔文-海耶斯/Elvin Hayes  1990  无   0  27313\n",
       "426     奥斯卡-罗波特森/Oscar Robertson  1990  无   0  26710\n",
       "563       约翰-哈福利切克/John Havlicek  1990  无   0  26395"
      ]
     },
     "execution_count": 32,
     "metadata": {},
     "output_type": "execute_result"
    }
   ],
   "source": [
    "frame1.index = frame1.index.droplevel(0)\n",
    "frame1.head()"
   ]
  },
  {
   "cell_type": "code",
   "execution_count": 33,
   "metadata": {},
   "outputs": [],
   "source": [
    "frame1.index = np.arange(600)"
   ]
  },
  {
   "cell_type": "code",
   "execution_count": 34,
   "metadata": {},
   "outputs": [],
   "source": [
    "#只保留中文名\n",
    "frame1['球员'] = frame1['球员'].map(lambda x:x.split('/')[0])"
   ]
  },
  {
   "cell_type": "code",
   "execution_count": 35,
   "metadata": {},
   "outputs": [
    {
     "data": {
      "text/html": [
       "<div>\n",
       "<style scoped>\n",
       "    .dataframe tbody tr th:only-of-type {\n",
       "        vertical-align: middle;\n",
       "    }\n",
       "\n",
       "    .dataframe tbody tr th {\n",
       "        vertical-align: top;\n",
       "    }\n",
       "\n",
       "    .dataframe thead th {\n",
       "        text-align: right;\n",
       "    }\n",
       "</style>\n",
       "<table border=\"1\" class=\"dataframe\">\n",
       "  <thead>\n",
       "    <tr style=\"text-align: right;\">\n",
       "      <th></th>\n",
       "      <th>球员</th>\n",
       "      <th>赛季</th>\n",
       "      <th>球队</th>\n",
       "      <th>得分</th>\n",
       "      <th>总得分</th>\n",
       "    </tr>\n",
       "  </thead>\n",
       "  <tbody>\n",
       "    <tr>\n",
       "      <th>0</th>\n",
       "      <td>卡里姆-贾巴尔</td>\n",
       "      <td>1990</td>\n",
       "      <td>无</td>\n",
       "      <td>0</td>\n",
       "      <td>38387</td>\n",
       "    </tr>\n",
       "    <tr>\n",
       "      <th>1</th>\n",
       "      <td>威尔特-张伯伦</td>\n",
       "      <td>1990</td>\n",
       "      <td>无</td>\n",
       "      <td>0</td>\n",
       "      <td>31419</td>\n",
       "    </tr>\n",
       "    <tr>\n",
       "      <th>2</th>\n",
       "      <td>埃尔文-海耶斯</td>\n",
       "      <td>1990</td>\n",
       "      <td>无</td>\n",
       "      <td>0</td>\n",
       "      <td>27313</td>\n",
       "    </tr>\n",
       "    <tr>\n",
       "      <th>3</th>\n",
       "      <td>奥斯卡-罗波特森</td>\n",
       "      <td>1990</td>\n",
       "      <td>无</td>\n",
       "      <td>0</td>\n",
       "      <td>26710</td>\n",
       "    </tr>\n",
       "    <tr>\n",
       "      <th>4</th>\n",
       "      <td>约翰-哈福利切克</td>\n",
       "      <td>1990</td>\n",
       "      <td>无</td>\n",
       "      <td>0</td>\n",
       "      <td>26395</td>\n",
       "    </tr>\n",
       "  </tbody>\n",
       "</table>\n",
       "</div>"
      ],
      "text/plain": [
       "         球员    赛季 球队  得分    总得分\n",
       "0   卡里姆-贾巴尔  1990  无   0  38387\n",
       "1   威尔特-张伯伦  1990  无   0  31419\n",
       "2   埃尔文-海耶斯  1990  无   0  27313\n",
       "3  奥斯卡-罗波特森  1990  无   0  26710\n",
       "4  约翰-哈福利切克  1990  无   0  26395"
      ]
     },
     "execution_count": 35,
     "metadata": {},
     "output_type": "execute_result"
    }
   ],
   "source": [
    "frame1.head()"
   ]
  },
  {
   "cell_type": "code",
   "execution_count": 36,
   "metadata": {},
   "outputs": [
    {
     "data": {
      "text/html": [
       "<div>\n",
       "<style scoped>\n",
       "    .dataframe tbody tr th:only-of-type {\n",
       "        vertical-align: middle;\n",
       "    }\n",
       "\n",
       "    .dataframe tbody tr th {\n",
       "        vertical-align: top;\n",
       "    }\n",
       "\n",
       "    .dataframe thead th {\n",
       "        text-align: right;\n",
       "    }\n",
       "</style>\n",
       "<table border=\"1\" class=\"dataframe\">\n",
       "  <thead>\n",
       "    <tr style=\"text-align: right;\">\n",
       "      <th></th>\n",
       "      <th>球员</th>\n",
       "      <th>赛季</th>\n",
       "      <th>总得分</th>\n",
       "    </tr>\n",
       "  </thead>\n",
       "  <tbody>\n",
       "    <tr>\n",
       "      <th>0</th>\n",
       "      <td>卡里姆-贾巴尔</td>\n",
       "      <td>1990</td>\n",
       "      <td>38387</td>\n",
       "    </tr>\n",
       "    <tr>\n",
       "      <th>1</th>\n",
       "      <td>威尔特-张伯伦</td>\n",
       "      <td>1990</td>\n",
       "      <td>31419</td>\n",
       "    </tr>\n",
       "    <tr>\n",
       "      <th>2</th>\n",
       "      <td>埃尔文-海耶斯</td>\n",
       "      <td>1990</td>\n",
       "      <td>27313</td>\n",
       "    </tr>\n",
       "    <tr>\n",
       "      <th>3</th>\n",
       "      <td>奥斯卡-罗波特森</td>\n",
       "      <td>1990</td>\n",
       "      <td>26710</td>\n",
       "    </tr>\n",
       "    <tr>\n",
       "      <th>4</th>\n",
       "      <td>约翰-哈福利切克</td>\n",
       "      <td>1990</td>\n",
       "      <td>26395</td>\n",
       "    </tr>\n",
       "  </tbody>\n",
       "</table>\n",
       "</div>"
      ],
      "text/plain": [
       "         球员    赛季    总得分\n",
       "0   卡里姆-贾巴尔  1990  38387\n",
       "1   威尔特-张伯伦  1990  31419\n",
       "2   埃尔文-海耶斯  1990  27313\n",
       "3  奥斯卡-罗波特森  1990  26710\n",
       "4  约翰-哈福利切克  1990  26395"
      ]
     },
     "execution_count": 36,
     "metadata": {},
     "output_type": "execute_result"
    }
   ],
   "source": [
    "#这两列的使命已经完成，可以丢掉\n",
    "frame1.drop(['球队','得分'],axis=1,inplace=True)\n",
    "frame1.head()"
   ]
  },
  {
   "cell_type": "code",
   "execution_count": 37,
   "metadata": {},
   "outputs": [
    {
     "data": {
      "text/html": [
       "<div>\n",
       "<style scoped>\n",
       "    .dataframe tbody tr th:only-of-type {\n",
       "        vertical-align: middle;\n",
       "    }\n",
       "\n",
       "    .dataframe tbody tr th {\n",
       "        vertical-align: top;\n",
       "    }\n",
       "\n",
       "    .dataframe thead th {\n",
       "        text-align: right;\n",
       "    }\n",
       "</style>\n",
       "<table border=\"1\" class=\"dataframe\">\n",
       "  <thead>\n",
       "    <tr style=\"text-align: right;\">\n",
       "      <th></th>\n",
       "      <th>球员</th>\n",
       "      <th>赛季</th>\n",
       "      <th>总得分</th>\n",
       "      <th>type</th>\n",
       "    </tr>\n",
       "  </thead>\n",
       "  <tbody>\n",
       "    <tr>\n",
       "      <th>0</th>\n",
       "      <td>卡里姆-贾巴尔</td>\n",
       "      <td>1990</td>\n",
       "      <td>38387</td>\n",
       "      <td></td>\n",
       "    </tr>\n",
       "    <tr>\n",
       "      <th>1</th>\n",
       "      <td>威尔特-张伯伦</td>\n",
       "      <td>1990</td>\n",
       "      <td>31419</td>\n",
       "      <td></td>\n",
       "    </tr>\n",
       "    <tr>\n",
       "      <th>2</th>\n",
       "      <td>埃尔文-海耶斯</td>\n",
       "      <td>1990</td>\n",
       "      <td>27313</td>\n",
       "      <td></td>\n",
       "    </tr>\n",
       "    <tr>\n",
       "      <th>3</th>\n",
       "      <td>奥斯卡-罗波特森</td>\n",
       "      <td>1990</td>\n",
       "      <td>26710</td>\n",
       "      <td></td>\n",
       "    </tr>\n",
       "    <tr>\n",
       "      <th>4</th>\n",
       "      <td>约翰-哈福利切克</td>\n",
       "      <td>1990</td>\n",
       "      <td>26395</td>\n",
       "      <td></td>\n",
       "    </tr>\n",
       "  </tbody>\n",
       "</table>\n",
       "</div>"
      ],
      "text/plain": [
       "         球员    赛季    总得分 type\n",
       "0   卡里姆-贾巴尔  1990  38387     \n",
       "1   威尔特-张伯伦  1990  31419     \n",
       "2   埃尔文-海耶斯  1990  27313     \n",
       "3  奥斯卡-罗波特森  1990  26710     \n",
       "4  约翰-哈福利切克  1990  26395     "
      ]
     },
     "execution_count": 37,
     "metadata": {},
     "output_type": "execute_result"
    }
   ],
   "source": [
    "#可视化框架的格式要求\n",
    "frame1['type'] = ''\n",
    "frame1.head()"
   ]
  },
  {
   "cell_type": "code",
   "execution_count": 38,
   "metadata": {},
   "outputs": [
    {
     "data": {
      "text/html": [
       "<div>\n",
       "<style scoped>\n",
       "    .dataframe tbody tr th:only-of-type {\n",
       "        vertical-align: middle;\n",
       "    }\n",
       "\n",
       "    .dataframe tbody tr th {\n",
       "        vertical-align: top;\n",
       "    }\n",
       "\n",
       "    .dataframe thead th {\n",
       "        text-align: right;\n",
       "    }\n",
       "</style>\n",
       "<table border=\"1\" class=\"dataframe\">\n",
       "  <thead>\n",
       "    <tr style=\"text-align: right;\">\n",
       "      <th></th>\n",
       "      <th>name</th>\n",
       "      <th>date</th>\n",
       "      <th>value</th>\n",
       "      <th>type</th>\n",
       "    </tr>\n",
       "  </thead>\n",
       "  <tbody>\n",
       "    <tr>\n",
       "      <th>0</th>\n",
       "      <td>卡里姆-贾巴尔</td>\n",
       "      <td>1990</td>\n",
       "      <td>38387</td>\n",
       "      <td></td>\n",
       "    </tr>\n",
       "    <tr>\n",
       "      <th>1</th>\n",
       "      <td>威尔特-张伯伦</td>\n",
       "      <td>1990</td>\n",
       "      <td>31419</td>\n",
       "      <td></td>\n",
       "    </tr>\n",
       "    <tr>\n",
       "      <th>2</th>\n",
       "      <td>埃尔文-海耶斯</td>\n",
       "      <td>1990</td>\n",
       "      <td>27313</td>\n",
       "      <td></td>\n",
       "    </tr>\n",
       "    <tr>\n",
       "      <th>3</th>\n",
       "      <td>奥斯卡-罗波特森</td>\n",
       "      <td>1990</td>\n",
       "      <td>26710</td>\n",
       "      <td></td>\n",
       "    </tr>\n",
       "    <tr>\n",
       "      <th>4</th>\n",
       "      <td>约翰-哈福利切克</td>\n",
       "      <td>1990</td>\n",
       "      <td>26395</td>\n",
       "      <td></td>\n",
       "    </tr>\n",
       "  </tbody>\n",
       "</table>\n",
       "</div>"
      ],
      "text/plain": [
       "       name  date  value type\n",
       "0   卡里姆-贾巴尔  1990  38387     \n",
       "1   威尔特-张伯伦  1990  31419     \n",
       "2   埃尔文-海耶斯  1990  27313     \n",
       "3  奥斯卡-罗波特森  1990  26710     \n",
       "4  约翰-哈福利切克  1990  26395     "
      ]
     },
     "execution_count": 38,
     "metadata": {},
     "output_type": "execute_result"
    }
   ],
   "source": [
    "frame1.rename(columns={'球员':'name','赛季':'date','总得分':'value'},inplace=True)\n",
    "frame1.head()"
   ]
  },
  {
   "cell_type": "code",
   "execution_count": 39,
   "metadata": {},
   "outputs": [
    {
     "data": {
      "text/html": [
       "<div>\n",
       "<style scoped>\n",
       "    .dataframe tbody tr th:only-of-type {\n",
       "        vertical-align: middle;\n",
       "    }\n",
       "\n",
       "    .dataframe tbody tr th {\n",
       "        vertical-align: top;\n",
       "    }\n",
       "\n",
       "    .dataframe thead th {\n",
       "        text-align: right;\n",
       "    }\n",
       "</style>\n",
       "<table border=\"1\" class=\"dataframe\">\n",
       "  <thead>\n",
       "    <tr style=\"text-align: right;\">\n",
       "      <th></th>\n",
       "      <th>name</th>\n",
       "      <th>type</th>\n",
       "      <th>value</th>\n",
       "      <th>date</th>\n",
       "    </tr>\n",
       "  </thead>\n",
       "  <tbody>\n",
       "    <tr>\n",
       "      <th>0</th>\n",
       "      <td>卡里姆-贾巴尔</td>\n",
       "      <td></td>\n",
       "      <td>38387</td>\n",
       "      <td>1990</td>\n",
       "    </tr>\n",
       "    <tr>\n",
       "      <th>1</th>\n",
       "      <td>威尔特-张伯伦</td>\n",
       "      <td></td>\n",
       "      <td>31419</td>\n",
       "      <td>1990</td>\n",
       "    </tr>\n",
       "    <tr>\n",
       "      <th>2</th>\n",
       "      <td>埃尔文-海耶斯</td>\n",
       "      <td></td>\n",
       "      <td>27313</td>\n",
       "      <td>1990</td>\n",
       "    </tr>\n",
       "    <tr>\n",
       "      <th>3</th>\n",
       "      <td>奥斯卡-罗波特森</td>\n",
       "      <td></td>\n",
       "      <td>26710</td>\n",
       "      <td>1990</td>\n",
       "    </tr>\n",
       "    <tr>\n",
       "      <th>4</th>\n",
       "      <td>约翰-哈福利切克</td>\n",
       "      <td></td>\n",
       "      <td>26395</td>\n",
       "      <td>1990</td>\n",
       "    </tr>\n",
       "  </tbody>\n",
       "</table>\n",
       "</div>"
      ],
      "text/plain": [
       "       name type  value  date\n",
       "0   卡里姆-贾巴尔       38387  1990\n",
       "1   威尔特-张伯伦       31419  1990\n",
       "2   埃尔文-海耶斯       27313  1990\n",
       "3  奥斯卡-罗波特森       26710  1990\n",
       "4  约翰-哈福利切克       26395  1990"
      ]
     },
     "execution_count": 39,
     "metadata": {},
     "output_type": "execute_result"
    }
   ],
   "source": [
    "frame1 = frame1.reindex(['name','type','value','date'],axis=1)\n",
    "frame1.head()"
   ]
  },
  {
   "cell_type": "code",
   "execution_count": 40,
   "metadata": {},
   "outputs": [],
   "source": [
    "frame1.to_csv(r'D:\\数据分析\\example.csv',index=False,encoding='UTF-8')\n",
    "frame1.to_excel(r'D:\\数据分析\\example.xlsx',index=False,encoding='UTF-8')"
   ]
  }
 ],
 "metadata": {
  "kernelspec": {
   "display_name": "Python 3",
   "language": "python",
   "name": "python3"
  },
  "language_info": {
   "codemirror_mode": {
    "name": "ipython",
    "version": 3
   },
   "file_extension": ".py",
   "mimetype": "text/x-python",
   "name": "python",
   "nbconvert_exporter": "python",
   "pygments_lexer": "ipython3",
   "version": "3.7.0"
  }
 },
 "nbformat": 4,
 "nbformat_minor": 2
}
